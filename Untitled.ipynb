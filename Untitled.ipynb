{
 "cells": [
  {
   "cell_type": "code",
   "execution_count": 22,
   "metadata": {
    "ExecuteTime": {
     "end_time": "2021-05-04T14:47:02.085365Z",
     "start_time": "2021-05-04T14:47:01.731820Z"
    }
   },
   "outputs": [],
   "source": [
    "import numpy as np\n",
    "import pandas as pd\n",
    "import pickle\n",
    "from sklearn.feature_extraction.text import CountVectorizer\n",
    "from sklearn.metrics.pairwise import cosine_similarity\n",
    "\n",
    "# load dataset\n",
    "#anime_data = pd.read_csv('cleaned_anime.csv')\n",
    "anime_data = pd.read_csv('cleaned_anime.csv')\n",
    "# if it doesn't exist\n",
    "def create_sim():\n",
    "    anime_data = pd.read_csv('cleaned_anime.csv')\n",
    "    # creating a count matrix\n",
    "    cv = CountVectorizer()\n",
    "    count_matrix = cv.fit_transform(anime_data['genre'].values.astype('U'))\n",
    "    # creating a similarity score matrix\n",
    "    sim = cosine_similarity(count_matrix)\n",
    "    return anime_data,sim\n",
    "\n",
    "# defining a function that recommends 10 most similar movies\n",
    "def rcmd(m):\n",
    "    m = m.lower()\n",
    "    \n",
    "    anime_data, sim = create_sim()\n",
    "    # check if the movie is in our database or not\n",
    "    if m not in anime_data['name'].unique():\n",
    "        return('This anime is not in our database.\\nPlease check if you spelled it correct.')\n",
    "    else:\n",
    "        # getting the index of the movie in the dataframe\n",
    "        i = anime_data.loc[anime_data['name']==m].index[0]\n",
    "\n",
    "        # fetching the row containing similarity scores of the movie\n",
    "        # from similarity matrix and enumerate it\n",
    "        lst = list(enumerate(sim[i]))\n",
    "\n",
    "        # sorting this list in decreasing order based on the similarity score\n",
    "        lst = sorted(lst, key = lambda x:x[1] ,reverse=True)\n",
    "\n",
    "        # taking top 1- movie scores\n",
    "        # not taking the first index since it is the same movie\n",
    "        lst = lst[1:11]\n",
    "\n",
    "        # making an empty list that will containg all 10 movie recommendations\n",
    "        l = []\n",
    "        for i in range(len(lst)):\n",
    "            a = lst[i][0]\n",
    "            l.append(anime_data['name'][a])\n",
    "        return l\n",
    "\n"
   ]
  },
  {
   "cell_type": "code",
   "execution_count": 24,
   "metadata": {
    "ExecuteTime": {
     "end_time": "2021-05-04T14:47:13.740182Z",
     "start_time": "2021-05-04T14:47:12.457764Z"
    }
   },
   "outputs": [
    {
     "data": {
      "text/plain": [
       "['gintama',\n",
       " 'gintama movie: kanketsu-hen - yorozuya yo eien nare',\n",
       " 'gintama: enchousen',\n",
       " 'gintama',\n",
       " 'gintama: yorinuki gintama-san on theater 2d',\n",
       " 'gintama movie: shinyaku benizakura-hen',\n",
       " 'gintama: shinyaku benizakura-hen',\n",
       " 'gintama: jump festa 2014 special',\n",
       " 'gintama (2017)',\n",
       " 'gintama: nanigoto mo saiyo ga kanjin nano de tasho senobisuru kurai ga choudoyoi']"
      ]
     },
     "execution_count": 24,
     "metadata": {},
     "output_type": "execute_result"
    }
   ],
   "source": [
    "rcmd(\"Gintama\")"
   ]
  },
  {
   "cell_type": "code",
   "execution_count": 13,
   "metadata": {
    "ExecuteTime": {
     "end_time": "2021-05-04T14:42:47.909114Z",
     "start_time": "2021-05-04T14:42:47.675375Z"
    }
   },
   "outputs": [
    {
     "data": {
      "text/plain": [
       "array(['Kimi no Na wa.', 'Fullmetal Alchemist: Brotherhood', 'Gintama°',\n",
       "       ..., 'Violence Gekiga David no Hoshi',\n",
       "       'Violence Gekiga Shin David no Hoshi: Inma Densetsu',\n",
       "       'Yasuji no Pornorama: Yacchimae!!'], dtype=object)"
      ]
     },
     "execution_count": 13,
     "metadata": {},
     "output_type": "execute_result"
    }
   ],
   "source": [
    "anime_data['name'].unique()"
   ]
  },
  {
   "cell_type": "code",
   "execution_count": 12,
   "metadata": {
    "ExecuteTime": {
     "end_time": "2021-05-04T14:42:33.658937Z",
     "start_time": "2021-05-04T14:42:33.633964Z"
    }
   },
   "outputs": [
    {
     "data": {
      "text/plain": [
       "Index(['anime_id', 'name', 'genre', 'rating'], dtype='object')"
      ]
     },
     "execution_count": 12,
     "metadata": {},
     "output_type": "execute_result"
    }
   ],
   "source": [
    "anime_data.columns"
   ]
  },
  {
   "cell_type": "code",
   "execution_count": null,
   "metadata": {},
   "outputs": [],
   "source": []
  }
 ],
 "metadata": {
  "kernelspec": {
   "display_name": "Python 3",
   "language": "python",
   "name": "python3"
  },
  "language_info": {
   "codemirror_mode": {
    "name": "ipython",
    "version": 3
   },
   "file_extension": ".py",
   "mimetype": "text/x-python",
   "name": "python",
   "nbconvert_exporter": "python",
   "pygments_lexer": "ipython3",
   "version": "3.8.5"
  },
  "toc": {
   "base_numbering": 1,
   "nav_menu": {},
   "number_sections": true,
   "sideBar": true,
   "skip_h1_title": false,
   "title_cell": "Table of Contents",
   "title_sidebar": "Contents",
   "toc_cell": false,
   "toc_position": {},
   "toc_section_display": true,
   "toc_window_display": false
  }
 },
 "nbformat": 4,
 "nbformat_minor": 4
}
